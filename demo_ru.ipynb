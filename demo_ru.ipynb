{
 "cells": [
  {
   "metadata": {},
   "cell_type": "markdown",
   "source": [
    "📊 Демонстрация LSTM модели с Attention Mask для предсказания числовых рядов\n",
    "==="
   ],
   "id": "3143bb4544e5a321"
  },
  {
   "metadata": {},
   "cell_type": "markdown",
   "source": [
    "## 🧠 Архитектура модели\n",
    "\n",
    "Данная модель представляет собой последовательную нейросетевую архитектуру для обработки временных рядов и предсказания следующего элемента последовательности. Основные компоненты модели:\n",
    "\n",
    "* **Линейный слой (`input_linear`)** — преобразует скалярный входной признак в вектор признаков размерности `hidden_dim`, обеспечивая более богатое представление данных для последующей обработки.\n",
    "\n",
    "* **Слой нормализации (`LayerNorm`) и активация ReLU** — стабилизируют и улучшают процесс обучения, вводя нормализацию признаков и нелинейность.\n",
    "\n",
    "* **LSTM (Long Short-Term Memory)** — рекуррентная нейросеть, способная учитывать долгосрочные зависимости во входной последовательности. Архитектура позволяет настраивать число слоёв, использование dropout, а также режим bidirectional (двунаправленный LSTM), при котором последовательность анализируется как в прямом, так и в обратном направлении.\n",
    "\n",
    "* **Механизм внимания (`Attention`)** — вычисляет взвешенную сумму скрытых состояний LSTM, где веса определяют релевантность каждого временного шага для текущей задачи предсказания. Это позволяет модели сосредоточиться на наиболее информативных участках последовательности.\n",
    "\n",
    "* **Линейный выходной слой (`output_linear`)** — преобразует итоговый контекст из слоя внимания в конечное числовое предсказание."
   ],
   "id": "fef2d67aa063225"
  },
  {
   "metadata": {
    "ExecuteTime": {
     "end_time": "2025-06-13T14:08:05.201488Z",
     "start_time": "2025-06-13T14:08:03.736858Z"
    }
   },
   "cell_type": "code",
   "source": [
    "import torch\n",
    "import torch.nn as nn\n",
    "import torch.nn.functional as F\n",
    "\n",
    "class LSTMWithAttention(nn.Module):\n",
    "    def __init__(self, input_dim: int = 1, hidden_dim: int = 64, num_layers: int = 1, dropout: float = 0.1, bidirectional=False):\n",
    "        super().__init__()\n",
    "        self.input_linear = nn.Linear(input_dim, hidden_dim)\n",
    "        self.ln = nn.LayerNorm(hidden_dim)\n",
    "        self.lstm = nn.LSTM(hidden_dim, hidden_dim,\n",
    "                            num_layers=num_layers, batch_first=True,\n",
    "                            dropout=dropout if num_layers > 1 else 0.0,\n",
    "                            bidirectional=bidirectional)\n",
    "        attn_input_dim = hidden_dim * 2 if bidirectional else hidden_dim\n",
    "        self.attention = Attention(attn_input_dim)\n",
    "        self.output_linear = nn.Linear(attn_input_dim, 1)\n",
    "\n",
    "    def forward(self, x: torch.Tensor, mask: torch.Tensor = None):\n",
    "        x = x.unsqueeze(-1)\n",
    "        x = self.input_linear(x)\n",
    "        x = self.ln(x)\n",
    "        x = F.relu(x)\n",
    "\n",
    "        lstm_out, _ = self.lstm(x)\n",
    "        context, attn_weights = self.attention(lstm_out, mask)\n",
    "        output = self.output_linear(context)\n",
    "\n",
    "        return output, attn_weights\n",
    "\n",
    "    def count_parameters(self, trainable_only=True):\n",
    "        if trainable_only:\n",
    "            return sum(p.numel() for p in self.parameters() if p.requires_grad)\n",
    "        else:\n",
    "            return sum(p.numel() for p in self.parameters())\n",
    "\n",
    "    def get_config(self):\n",
    "        return {\n",
    "            \"input_dim\": self.input_linear.in_features,\n",
    "            \"hidden_dim\": self.lstm.hidden_size,\n",
    "            \"num_layers\": self.lstm.num_layers,\n",
    "            \"dropout\": self.lstm.dropout,\n",
    "            \"bidirectional\": self.lstm.bidirectional\n",
    "        }"
   ],
   "id": "afca92b978e14303",
   "outputs": [],
   "execution_count": 1
  },
  {
   "metadata": {},
   "cell_type": "markdown",
   "source": [
    "### 🔍 Механизм внимания\n",
    "\n",
    "Внимание формируется следующим образом:\n",
    "\n",
    "Для каждого временного шага $t$ скрытое состояние LSTM $h_t$ проходит через линейный слой, вычисляющий скалярный скор (score):\n",
    "\n",
    "$$\n",
    "\\text{score}_t = \\mathbf{W} h_t + b,\n",
    "$$\n",
    "\n",
    "где $\\mathbf{W}$ и $b$ — обучаемые параметры.\n",
    "\n",
    "Далее применяется функция softmax для нормализации скорингов по всем временным шагам, что формирует распределение весов внимания $\\alpha_t$:\n",
    "\n",
    "$$\n",
    "\\alpha_t = \\frac{\\exp(\\text{score}_t / T)}{\\sum_{k} \\exp(\\text{score}_k / T)},\n",
    "$$\n",
    "\n",
    "где $T$ — параметр температуры (здесь равен 1), контролирующий «остроту» распределения.\n",
    "\n",
    "Итоговый контекст вычисляется как взвешенная сумма скрытых состояний:\n",
    "\n",
    "$$\n",
    "\\text{context} = \\sum_t \\alpha_t h_t.\n",
    "$$\n",
    "\n",
    "### Значение внимания в модели\n",
    "\n",
    "Использование механизма внимания позволяет эффективно выделять ключевые временные шаги, оказывающие наибольшее влияние на предсказание. Это повышает интерпретируемость модели и улучшает качество предсказаний, особенно при работе с длительными последовательностями и сложными зависимостями."
   ],
   "id": "29a0a2b026116439"
  },
  {
   "metadata": {
    "ExecuteTime": {
     "end_time": "2025-06-13T14:08:07.231135Z",
     "start_time": "2025-06-13T14:08:07.228279Z"
    }
   },
   "cell_type": "code",
   "source": [
    "class Attention(nn.Module):\n",
    "    def __init__(self, hidden_dim):\n",
    "        super().__init__()\n",
    "        self.attn = nn.Linear(hidden_dim, 1)\n",
    "        self.temperature = 1.0\n",
    "\n",
    "    def forward(self, encoder_outputs, mask=None):\n",
    "        attn_scores = self.attn(encoder_outputs).squeeze(-1)\n",
    "        if mask is not None:\n",
    "            attn_scores = attn_scores.masked_fill(mask == 0, float('-inf'))\n",
    "        attn_weights = F.softmax(attn_scores / self.temperature, dim=-1)\n",
    "        context = torch.bmm(attn_weights.unsqueeze(1), encoder_outputs).squeeze(1)\n",
    "        return context, attn_weights"
   ],
   "id": "8bbcb3265a3f6915",
   "outputs": [],
   "execution_count": 2
  },
  {
   "metadata": {},
   "cell_type": "markdown",
   "source": "## 📊 Визуализация архитектуры модели",
   "id": "2190bf762b0cbfe8"
  },
  {
   "metadata": {
    "ExecuteTime": {
     "end_time": "2025-06-13T14:08:09.599097Z",
     "start_time": "2025-06-13T14:08:09.233455Z"
    }
   },
   "cell_type": "code",
   "source": [
    "from torchview import draw_graph\n",
    "import torch\n",
    "\n",
    "model = LSTMWithAttention()\n",
    "x = torch.randn(1, 20)\n",
    "mask = torch.ones_like(x).bool()\n",
    "\n",
    "draw_graph(model, input_data=(x, mask), expand_nested=True).visual_graph"
   ],
   "id": "2b62c8750cb1aa9c",
   "outputs": [
    {
     "name": "stderr",
     "output_type": "stream",
     "text": [
      "\n",
      "(process:15404): Pango-WARNING **: 22:08:09.579: couldn't load font \"Linux libertine Not-Rotated 10\", falling back to \"Sans Not-Rotated 10\", expect ugly output.\n"
     ]
    },
    {
     "data": {
      "image/svg+xml": "<?xml version=\"1.0\" encoding=\"UTF-8\" standalone=\"no\"?>\n<!DOCTYPE svg PUBLIC \"-//W3C//DTD SVG 1.1//EN\"\n \"http://www.w3.org/Graphics/SVG/1.1/DTD/svg11.dtd\">\n<!-- Generated by graphviz version 12.2.1 (20241206.2353)\n -->\n<!-- Title: model Pages: 1 -->\n<svg width=\"328pt\" height=\"886pt\"\n viewBox=\"0.00 0.00 327.96 886.00\" xmlns=\"http://www.w3.org/2000/svg\" xmlns:xlink=\"http://www.w3.org/1999/xlink\">\n<g id=\"graph0\" class=\"graph\" transform=\"scale(0.704153 0.704153) rotate(0) translate(4 1254.25)\">\n<title>model</title>\n<polygon fill=\"white\" stroke=\"none\" points=\"-4,4 -4,-1254.25 461.75,-1254.25 461.75,4 -4,4\"/>\n<g id=\"clust1\" class=\"cluster\">\n<title>cluster_2</title>\n<polygon fill=\"none\" stroke=\"black\" stroke-dasharray=\"5,2\" points=\"8,-145 8,-799.25 314,-799.25 314,-145 8,-145\"/>\n<text text-anchor=\"middle\" x=\"38.12\" y=\"-783.85\" font-family=\"Times New Roman,serif\" font-size=\"12.00\">Attention</text>\n</g>\n<!-- 0 -->\n<g id=\"node1\" class=\"node\">\n<title>0</title>\n<polygon fill=\"lightyellow\" stroke=\"none\" points=\"356.5,-1250.25 255.5,-1250.25 255.5,-1214.75 356.5,-1214.75 356.5,-1250.25\"/>\n<polygon fill=\"none\" stroke=\"black\" points=\"255.5,-1214.75 255.5,-1250.25 317.25,-1250.25 317.25,-1214.75 255.5,-1214.75\"/>\n<text text-anchor=\"start\" x=\"260.5\" y=\"-1235.75\" font-family=\"Linux libertine\" font-size=\"10.00\">input&#45;tensor</text>\n<text text-anchor=\"start\" x=\"269.88\" y=\"-1223\" font-family=\"Linux libertine\" font-size=\"10.00\">depth:0</text>\n<polygon fill=\"none\" stroke=\"black\" points=\"317.25,-1214.75 317.25,-1250.25 356.5,-1250.25 356.5,-1214.75 317.25,-1214.75\"/>\n<text text-anchor=\"start\" x=\"322.25\" y=\"-1229.38\" font-family=\"Linux libertine\" font-size=\"10.00\">(1, 20)</text>\n</g>\n<!-- 2 -->\n<g id=\"node3\" class=\"node\">\n<title>2</title>\n<polygon fill=\"aliceblue\" stroke=\"none\" points=\"382.5,-1178.75 229.5,-1178.75 229.5,-1133.25 382.5,-1133.25 382.5,-1178.75\"/>\n<polygon fill=\"none\" stroke=\"black\" points=\"229.5,-1133.25 229.5,-1178.75 285.25,-1178.75 285.25,-1133.25 229.5,-1133.25\"/>\n<text text-anchor=\"start\" x=\"234.5\" y=\"-1159.25\" font-family=\"Linux libertine\" font-size=\"10.00\">unsqueeze</text>\n<text text-anchor=\"start\" x=\"240.88\" y=\"-1146.5\" font-family=\"Linux libertine\" font-size=\"10.00\">depth:1</text>\n<polygon fill=\"none\" stroke=\"black\" points=\"285.25,-1156 285.25,-1178.75 329,-1178.75 329,-1156 285.25,-1156\"/>\n<text text-anchor=\"start\" x=\"294.75\" y=\"-1164.25\" font-family=\"Linux libertine\" font-size=\"10.00\">input:</text>\n<polygon fill=\"none\" stroke=\"black\" points=\"329,-1156 329,-1178.75 382.5,-1178.75 382.5,-1156 329,-1156\"/>\n<text text-anchor=\"start\" x=\"339.62\" y=\"-1164.25\" font-family=\"Linux libertine\" font-size=\"10.00\">(1, 20) </text>\n<polygon fill=\"none\" stroke=\"black\" points=\"285.25,-1133.25 285.25,-1156 329,-1156 329,-1133.25 285.25,-1133.25\"/>\n<text text-anchor=\"start\" x=\"290.25\" y=\"-1141.5\" font-family=\"Linux libertine\" font-size=\"10.00\">output: </text>\n<polygon fill=\"none\" stroke=\"black\" points=\"329,-1133.25 329,-1156 382.5,-1156 382.5,-1133.25 329,-1133.25\"/>\n<text text-anchor=\"start\" x=\"334\" y=\"-1141.5\" font-family=\"Linux libertine\" font-size=\"10.00\">(1, 20, 1) </text>\n</g>\n<!-- 0&#45;&gt;2 -->\n<g id=\"edge1\" class=\"edge\">\n<title>0&#45;&gt;2</title>\n<path fill=\"none\" stroke=\"black\" d=\"M306,-1214.97C306,-1207.6 306,-1198.64 306,-1190\"/>\n<polygon fill=\"black\" stroke=\"black\" points=\"309.5,-1190.1 306,-1180.1 302.5,-1190.1 309.5,-1190.1\"/>\n</g>\n<!-- 1 -->\n<g id=\"node2\" class=\"node\">\n<title>1</title>\n<polygon fill=\"lightyellow\" stroke=\"none\" points=\"423.5,-764 322.5,-764 322.5,-728.5 423.5,-728.5 423.5,-764\"/>\n<polygon fill=\"none\" stroke=\"black\" points=\"322.5,-728.5 322.5,-764 384.25,-764 384.25,-728.5 322.5,-728.5\"/>\n<text text-anchor=\"start\" x=\"327.5\" y=\"-749.5\" font-family=\"Linux libertine\" font-size=\"10.00\">input&#45;tensor</text>\n<text text-anchor=\"start\" x=\"336.88\" y=\"-736.75\" font-family=\"Linux libertine\" font-size=\"10.00\">depth:0</text>\n<polygon fill=\"none\" stroke=\"black\" points=\"384.25,-728.5 384.25,-764 423.5,-764 423.5,-728.5 384.25,-728.5\"/>\n<text text-anchor=\"start\" x=\"389.25\" y=\"-743.12\" font-family=\"Linux libertine\" font-size=\"10.00\">(1, 20)</text>\n</g>\n<!-- 9 -->\n<g id=\"node10\" class=\"node\">\n<title>9</title>\n<polygon fill=\"aliceblue\" stroke=\"none\" points=\"305.5,-687.5 176.5,-687.5 176.5,-642 305.5,-642 305.5,-687.5\"/>\n<polygon fill=\"none\" stroke=\"black\" points=\"176.5,-642 176.5,-687.5 219.5,-687.5 219.5,-642 176.5,-642\"/>\n<text text-anchor=\"start\" x=\"182.25\" y=\"-668\" font-family=\"Linux libertine\" font-size=\"10.00\">__eq__</text>\n<text text-anchor=\"start\" x=\"181.5\" y=\"-655.25\" font-family=\"Linux libertine\" font-size=\"10.00\">depth:2</text>\n<polygon fill=\"none\" stroke=\"black\" points=\"219.5,-664.75 219.5,-687.5 263.25,-687.5 263.25,-664.75 219.5,-664.75\"/>\n<text text-anchor=\"start\" x=\"229\" y=\"-673\" font-family=\"Linux libertine\" font-size=\"10.00\">input:</text>\n<polygon fill=\"none\" stroke=\"black\" points=\"263.25,-664.75 263.25,-687.5 305.5,-687.5 305.5,-664.75 263.25,-664.75\"/>\n<text text-anchor=\"start\" x=\"268.25\" y=\"-673\" font-family=\"Linux libertine\" font-size=\"10.00\">(1, 20) </text>\n<polygon fill=\"none\" stroke=\"black\" points=\"219.5,-642 219.5,-664.75 263.25,-664.75 263.25,-642 219.5,-642\"/>\n<text text-anchor=\"start\" x=\"224.5\" y=\"-650.25\" font-family=\"Linux libertine\" font-size=\"10.00\">output: </text>\n<polygon fill=\"none\" stroke=\"black\" points=\"263.25,-642 263.25,-664.75 305.5,-664.75 305.5,-642 263.25,-642\"/>\n<text text-anchor=\"start\" x=\"268.25\" y=\"-650.25\" font-family=\"Linux libertine\" font-size=\"10.00\">(1, 20) </text>\n</g>\n<!-- 1&#45;&gt;9 -->\n<g id=\"edge8\" class=\"edge\">\n<title>1&#45;&gt;9</title>\n<path fill=\"none\" stroke=\"black\" d=\"M345.33,-728.58C328.25,-718.3 305.94,-704.86 286.34,-693.06\"/>\n<polygon fill=\"black\" stroke=\"black\" points=\"288.34,-690.18 277.97,-688.02 284.73,-696.17 288.34,-690.18\"/>\n</g>\n<!-- 3 -->\n<g id=\"node4\" class=\"node\">\n<title>3</title>\n<polygon fill=\"#c1ffc1\" stroke=\"none\" points=\"378.75,-1097.25 233.25,-1097.25 233.25,-1051.75 378.75,-1051.75 378.75,-1097.25\"/>\n<polygon fill=\"none\" stroke=\"black\" points=\"233.25,-1051.75 233.25,-1097.25 276.25,-1097.25 276.25,-1051.75 233.25,-1051.75\"/>\n<text text-anchor=\"start\" x=\"241.25\" y=\"-1077.75\" font-family=\"Linux libertine\" font-size=\"10.00\">Linear</text>\n<text text-anchor=\"start\" x=\"238.25\" y=\"-1065\" font-family=\"Linux libertine\" font-size=\"10.00\">depth:1</text>\n<polygon fill=\"none\" stroke=\"black\" points=\"276.25,-1074.5 276.25,-1097.25 320,-1097.25 320,-1074.5 276.25,-1074.5\"/>\n<text text-anchor=\"start\" x=\"285.75\" y=\"-1082.75\" font-family=\"Linux libertine\" font-size=\"10.00\">input:</text>\n<polygon fill=\"none\" stroke=\"black\" points=\"320,-1074.5 320,-1097.25 378.75,-1097.25 378.75,-1074.5 320,-1074.5\"/>\n<text text-anchor=\"start\" x=\"327.62\" y=\"-1082.75\" font-family=\"Linux libertine\" font-size=\"10.00\">(1, 20, 1) </text>\n<polygon fill=\"none\" stroke=\"black\" points=\"276.25,-1051.75 276.25,-1074.5 320,-1074.5 320,-1051.75 276.25,-1051.75\"/>\n<text text-anchor=\"start\" x=\"281.25\" y=\"-1060\" font-family=\"Linux libertine\" font-size=\"10.00\">output: </text>\n<polygon fill=\"none\" stroke=\"black\" points=\"320,-1051.75 320,-1074.5 378.75,-1074.5 378.75,-1051.75 320,-1051.75\"/>\n<text text-anchor=\"start\" x=\"325\" y=\"-1060\" font-family=\"Linux libertine\" font-size=\"10.00\">(1, 20, 64) </text>\n</g>\n<!-- 2&#45;&gt;3 -->\n<g id=\"edge2\" class=\"edge\">\n<title>2&#45;&gt;3</title>\n<path fill=\"none\" stroke=\"black\" d=\"M306,-1133.28C306,-1125.65 306,-1116.9 306,-1108.56\"/>\n<polygon fill=\"black\" stroke=\"black\" points=\"309.5,-1108.71 306,-1098.71 302.5,-1108.71 309.5,-1108.71\"/>\n</g>\n<!-- 4 -->\n<g id=\"node5\" class=\"node\">\n<title>4</title>\n<polygon fill=\"#c1ffc1\" stroke=\"none\" points=\"386.62,-1015.75 225.38,-1015.75 225.38,-970.25 386.62,-970.25 386.62,-1015.75\"/>\n<polygon fill=\"none\" stroke=\"black\" points=\"225.38,-970.25 225.38,-1015.75 284.12,-1015.75 284.12,-970.25 225.38,-970.25\"/>\n<text text-anchor=\"start\" x=\"230.38\" y=\"-996.25\" font-family=\"Linux libertine\" font-size=\"10.00\">LayerNorm</text>\n<text text-anchor=\"start\" x=\"238.25\" y=\"-983.5\" font-family=\"Linux libertine\" font-size=\"10.00\">depth:1</text>\n<polygon fill=\"none\" stroke=\"black\" points=\"284.12,-993 284.12,-1015.75 327.88,-1015.75 327.88,-993 284.12,-993\"/>\n<text text-anchor=\"start\" x=\"293.62\" y=\"-1001.25\" font-family=\"Linux libertine\" font-size=\"10.00\">input:</text>\n<polygon fill=\"none\" stroke=\"black\" points=\"327.88,-993 327.88,-1015.75 386.62,-1015.75 386.62,-993 327.88,-993\"/>\n<text text-anchor=\"start\" x=\"332.88\" y=\"-1001.25\" font-family=\"Linux libertine\" font-size=\"10.00\">(1, 20, 64) </text>\n<polygon fill=\"none\" stroke=\"black\" points=\"284.12,-970.25 284.12,-993 327.88,-993 327.88,-970.25 284.12,-970.25\"/>\n<text text-anchor=\"start\" x=\"289.12\" y=\"-978.5\" font-family=\"Linux libertine\" font-size=\"10.00\">output: </text>\n<polygon fill=\"none\" stroke=\"black\" points=\"327.88,-970.25 327.88,-993 386.62,-993 386.62,-970.25 327.88,-970.25\"/>\n<text text-anchor=\"start\" x=\"332.88\" y=\"-978.5\" font-family=\"Linux libertine\" font-size=\"10.00\">(1, 20, 64) </text>\n</g>\n<!-- 3&#45;&gt;4 -->\n<g id=\"edge3\" class=\"edge\">\n<title>3&#45;&gt;4</title>\n<path fill=\"none\" stroke=\"black\" d=\"M306,-1051.78C306,-1044.15 306,-1035.4 306,-1027.06\"/>\n<polygon fill=\"black\" stroke=\"black\" points=\"309.5,-1027.21 306,-1017.21 302.5,-1027.21 309.5,-1027.21\"/>\n</g>\n<!-- 5 -->\n<g id=\"node6\" class=\"node\">\n<title>5</title>\n<polygon fill=\"aliceblue\" stroke=\"none\" points=\"378.75,-934.25 233.25,-934.25 233.25,-888.75 378.75,-888.75 378.75,-934.25\"/>\n<polygon fill=\"none\" stroke=\"black\" points=\"233.25,-888.75 233.25,-934.25 276.25,-934.25 276.25,-888.75 233.25,-888.75\"/>\n<text text-anchor=\"start\" x=\"246.5\" y=\"-914.75\" font-family=\"Linux libertine\" font-size=\"10.00\">relu</text>\n<text text-anchor=\"start\" x=\"238.25\" y=\"-902\" font-family=\"Linux libertine\" font-size=\"10.00\">depth:1</text>\n<polygon fill=\"none\" stroke=\"black\" points=\"276.25,-911.5 276.25,-934.25 320,-934.25 320,-911.5 276.25,-911.5\"/>\n<text text-anchor=\"start\" x=\"285.75\" y=\"-919.75\" font-family=\"Linux libertine\" font-size=\"10.00\">input:</text>\n<polygon fill=\"none\" stroke=\"black\" points=\"320,-911.5 320,-934.25 378.75,-934.25 378.75,-911.5 320,-911.5\"/>\n<text text-anchor=\"start\" x=\"325\" y=\"-919.75\" font-family=\"Linux libertine\" font-size=\"10.00\">(1, 20, 64) </text>\n<polygon fill=\"none\" stroke=\"black\" points=\"276.25,-888.75 276.25,-911.5 320,-911.5 320,-888.75 276.25,-888.75\"/>\n<text text-anchor=\"start\" x=\"281.25\" y=\"-897\" font-family=\"Linux libertine\" font-size=\"10.00\">output: </text>\n<polygon fill=\"none\" stroke=\"black\" points=\"320,-888.75 320,-911.5 378.75,-911.5 378.75,-888.75 320,-888.75\"/>\n<text text-anchor=\"start\" x=\"325\" y=\"-897\" font-family=\"Linux libertine\" font-size=\"10.00\">(1, 20, 64) </text>\n</g>\n<!-- 4&#45;&gt;5 -->\n<g id=\"edge4\" class=\"edge\">\n<title>4&#45;&gt;5</title>\n<path fill=\"none\" stroke=\"black\" d=\"M306,-970.28C306,-962.65 306,-953.9 306,-945.56\"/>\n<polygon fill=\"black\" stroke=\"black\" points=\"309.5,-945.71 306,-935.71 302.5,-945.71 309.5,-945.71\"/>\n</g>\n<!-- 6 -->\n<g id=\"node7\" class=\"node\">\n<title>6</title>\n<polygon fill=\"#c1ffc1\" stroke=\"none\" points=\"410.25,-852.75 201.75,-852.75 201.75,-807.25 410.25,-807.25 410.25,-852.75\"/>\n<polygon fill=\"none\" stroke=\"black\" points=\"201.75,-807.25 201.75,-852.75 244.75,-852.75 244.75,-807.25 201.75,-807.25\"/>\n<text text-anchor=\"start\" x=\"211.25\" y=\"-833.25\" font-family=\"Linux libertine\" font-size=\"10.00\">LSTM</text>\n<text text-anchor=\"start\" x=\"206.75\" y=\"-820.5\" font-family=\"Linux libertine\" font-size=\"10.00\">depth:1</text>\n<polygon fill=\"none\" stroke=\"black\" points=\"244.75,-830 244.75,-852.75 288.5,-852.75 288.5,-830 244.75,-830\"/>\n<text text-anchor=\"start\" x=\"254.25\" y=\"-838.25\" font-family=\"Linux libertine\" font-size=\"10.00\">input:</text>\n<polygon fill=\"none\" stroke=\"black\" points=\"288.5,-830 288.5,-852.75 410.25,-852.75 410.25,-830 288.5,-830\"/>\n<text text-anchor=\"start\" x=\"325\" y=\"-838.25\" font-family=\"Linux libertine\" font-size=\"10.00\">(1, 20, 64) </text>\n<polygon fill=\"none\" stroke=\"black\" points=\"244.75,-807.25 244.75,-830 288.5,-830 288.5,-807.25 244.75,-807.25\"/>\n<text text-anchor=\"start\" x=\"249.75\" y=\"-815.5\" font-family=\"Linux libertine\" font-size=\"10.00\">output: </text>\n<polygon fill=\"none\" stroke=\"black\" points=\"288.5,-807.25 288.5,-830 410.25,-830 410.25,-807.25 288.5,-807.25\"/>\n<text text-anchor=\"start\" x=\"293.5\" y=\"-815.5\" font-family=\"Linux libertine\" font-size=\"10.00\">(1, 20, 64), 2 x (1, 1, 64) </text>\n</g>\n<!-- 5&#45;&gt;6 -->\n<g id=\"edge5\" class=\"edge\">\n<title>5&#45;&gt;6</title>\n<path fill=\"none\" stroke=\"black\" d=\"M306,-888.78C306,-881.15 306,-872.4 306,-864.06\"/>\n<polygon fill=\"black\" stroke=\"black\" points=\"309.5,-864.21 306,-854.21 302.5,-864.21 309.5,-864.21\"/>\n</g>\n<!-- 7 -->\n<g id=\"node8\" class=\"node\">\n<title>7</title>\n<polygon fill=\"#c1ffc1\" stroke=\"none\" points=\"232.75,-769 87.25,-769 87.25,-723.5 232.75,-723.5 232.75,-769\"/>\n<polygon fill=\"none\" stroke=\"black\" points=\"87.25,-723.5 87.25,-769 130.25,-769 130.25,-723.5 87.25,-723.5\"/>\n<text text-anchor=\"start\" x=\"95.25\" y=\"-749.5\" font-family=\"Linux libertine\" font-size=\"10.00\">Linear</text>\n<text text-anchor=\"start\" x=\"92.25\" y=\"-736.75\" font-family=\"Linux libertine\" font-size=\"10.00\">depth:2</text>\n<polygon fill=\"none\" stroke=\"black\" points=\"130.25,-746.25 130.25,-769 174,-769 174,-746.25 130.25,-746.25\"/>\n<text text-anchor=\"start\" x=\"139.75\" y=\"-754.5\" font-family=\"Linux libertine\" font-size=\"10.00\">input:</text>\n<polygon fill=\"none\" stroke=\"black\" points=\"174,-746.25 174,-769 232.75,-769 232.75,-746.25 174,-746.25\"/>\n<text text-anchor=\"start\" x=\"179\" y=\"-754.5\" font-family=\"Linux libertine\" font-size=\"10.00\">(1, 20, 64) </text>\n<polygon fill=\"none\" stroke=\"black\" points=\"130.25,-723.5 130.25,-746.25 174,-746.25 174,-723.5 130.25,-723.5\"/>\n<text text-anchor=\"start\" x=\"135.25\" y=\"-731.75\" font-family=\"Linux libertine\" font-size=\"10.00\">output: </text>\n<polygon fill=\"none\" stroke=\"black\" points=\"174,-723.5 174,-746.25 232.75,-746.25 232.75,-723.5 174,-723.5\"/>\n<text text-anchor=\"start\" x=\"181.62\" y=\"-731.75\" font-family=\"Linux libertine\" font-size=\"10.00\">(1, 20, 1) </text>\n</g>\n<!-- 6&#45;&gt;7 -->\n<g id=\"edge6\" class=\"edge\">\n<title>6&#45;&gt;7</title>\n<path fill=\"none\" stroke=\"black\" d=\"M267.26,-807.31C249.28,-797.24 227.73,-785.17 208.67,-774.5\"/>\n<polygon fill=\"black\" stroke=\"black\" points=\"210.43,-771.47 199.99,-769.64 207.01,-777.58 210.43,-771.47\"/>\n</g>\n<!-- 14 -->\n<g id=\"node15\" class=\"node\">\n<title>14</title>\n<polygon fill=\"aliceblue\" stroke=\"none\" points=\"257,-280 65,-280 65,-234.5 257,-234.5 257,-280\"/>\n<polygon fill=\"none\" stroke=\"black\" points=\"65,-234.5 65,-280 108,-280 108,-234.5 65,-234.5\"/>\n<text text-anchor=\"start\" x=\"75.62\" y=\"-260.5\" font-family=\"Linux libertine\" font-size=\"10.00\">bmm</text>\n<text text-anchor=\"start\" x=\"70\" y=\"-247.75\" font-family=\"Linux libertine\" font-size=\"10.00\">depth:2</text>\n<polygon fill=\"none\" stroke=\"black\" points=\"108,-257.25 108,-280 151.75,-280 151.75,-257.25 108,-257.25\"/>\n<text text-anchor=\"start\" x=\"117.5\" y=\"-265.5\" font-family=\"Linux libertine\" font-size=\"10.00\">input:</text>\n<polygon fill=\"none\" stroke=\"black\" points=\"151.75,-257.25 151.75,-280 257,-280 257,-257.25 151.75,-257.25\"/>\n<text text-anchor=\"start\" x=\"156.75\" y=\"-265.5\" font-family=\"Linux libertine\" font-size=\"10.00\">(1, 1, 20), (1, 20, 64) </text>\n<polygon fill=\"none\" stroke=\"black\" points=\"108,-234.5 108,-257.25 151.75,-257.25 151.75,-234.5 108,-234.5\"/>\n<text text-anchor=\"start\" x=\"113\" y=\"-242.75\" font-family=\"Linux libertine\" font-size=\"10.00\">output: </text>\n<polygon fill=\"none\" stroke=\"black\" points=\"151.75,-234.5 151.75,-257.25 257,-257.25 257,-234.5 151.75,-234.5\"/>\n<text text-anchor=\"start\" x=\"182.62\" y=\"-242.75\" font-family=\"Linux libertine\" font-size=\"10.00\">(1, 1, 64) </text>\n</g>\n<!-- 6&#45;&gt;14 -->\n<g id=\"edge7\" class=\"edge\">\n<title>6&#45;&gt;14</title>\n<path fill=\"none\" stroke=\"black\" d=\"M410.16,-811.28C420.54,-807.84 428.8,-803.84 433,-799.25 473.46,-755.03 452,-725.68 452,-665.75 452,-665.75 452,-665.75 452,-419.25 452,-332.08 350.79,-291.73 267.75,-273.3\"/>\n<polygon fill=\"black\" stroke=\"black\" points=\"268.68,-269.91 258.17,-271.26 267.22,-276.76 268.68,-269.91\"/>\n</g>\n<!-- 8 -->\n<g id=\"node9\" class=\"node\">\n<title>8</title>\n<polygon fill=\"aliceblue\" stroke=\"none\" points=\"158.25,-687.5 15.75,-687.5 15.75,-642 158.25,-642 158.25,-687.5\"/>\n<polygon fill=\"none\" stroke=\"black\" points=\"15.75,-642 15.75,-687.5 61,-687.5 61,-642 15.75,-642\"/>\n<text text-anchor=\"start\" x=\"20.75\" y=\"-668\" font-family=\"Linux libertine\" font-size=\"10.00\">squeeze</text>\n<text text-anchor=\"start\" x=\"21.88\" y=\"-655.25\" font-family=\"Linux libertine\" font-size=\"10.00\">depth:2</text>\n<polygon fill=\"none\" stroke=\"black\" points=\"61,-664.75 61,-687.5 104.75,-687.5 104.75,-664.75 61,-664.75\"/>\n<text text-anchor=\"start\" x=\"70.5\" y=\"-673\" font-family=\"Linux libertine\" font-size=\"10.00\">input:</text>\n<polygon fill=\"none\" stroke=\"black\" points=\"104.75,-664.75 104.75,-687.5 158.25,-687.5 158.25,-664.75 104.75,-664.75\"/>\n<text text-anchor=\"start\" x=\"109.75\" y=\"-673\" font-family=\"Linux libertine\" font-size=\"10.00\">(1, 20, 1) </text>\n<polygon fill=\"none\" stroke=\"black\" points=\"61,-642 61,-664.75 104.75,-664.75 104.75,-642 61,-642\"/>\n<text text-anchor=\"start\" x=\"66\" y=\"-650.25\" font-family=\"Linux libertine\" font-size=\"10.00\">output: </text>\n<polygon fill=\"none\" stroke=\"black\" points=\"104.75,-642 104.75,-664.75 158.25,-664.75 158.25,-642 104.75,-642\"/>\n<text text-anchor=\"start\" x=\"115.38\" y=\"-650.25\" font-family=\"Linux libertine\" font-size=\"10.00\">(1, 20) </text>\n</g>\n<!-- 7&#45;&gt;8 -->\n<g id=\"edge9\" class=\"edge\">\n<title>7&#45;&gt;8</title>\n<path fill=\"none\" stroke=\"black\" d=\"M140.05,-723.53C132.17,-714.94 122.97,-704.93 114.47,-695.67\"/>\n<polygon fill=\"black\" stroke=\"black\" points=\"117.29,-693.56 107.95,-688.56 112.13,-698.3 117.29,-693.56\"/>\n</g>\n<!-- 10 -->\n<g id=\"node11\" class=\"node\">\n<title>10</title>\n<polygon fill=\"aliceblue\" stroke=\"none\" points=\"245.62,-606 84.38,-606 84.38,-560.5 245.62,-560.5 245.62,-606\"/>\n<polygon fill=\"none\" stroke=\"black\" points=\"84.38,-560.5 84.38,-606 143.12,-606 143.12,-560.5 84.38,-560.5\"/>\n<text text-anchor=\"start\" x=\"89.38\" y=\"-586.5\" font-family=\"Linux libertine\" font-size=\"10.00\">masked_fill</text>\n<text text-anchor=\"start\" x=\"97.25\" y=\"-573.75\" font-family=\"Linux libertine\" font-size=\"10.00\">depth:2</text>\n<polygon fill=\"none\" stroke=\"black\" points=\"143.12,-583.25 143.12,-606 186.88,-606 186.88,-583.25 143.12,-583.25\"/>\n<text text-anchor=\"start\" x=\"152.62\" y=\"-591.5\" font-family=\"Linux libertine\" font-size=\"10.00\">input:</text>\n<polygon fill=\"none\" stroke=\"black\" points=\"186.88,-583.25 186.88,-606 245.62,-606 245.62,-583.25 186.88,-583.25\"/>\n<text text-anchor=\"start\" x=\"191.88\" y=\"-591.5\" font-family=\"Linux libertine\" font-size=\"10.00\">2 x (1, 20) </text>\n<polygon fill=\"none\" stroke=\"black\" points=\"143.12,-560.5 143.12,-583.25 186.88,-583.25 186.88,-560.5 143.12,-560.5\"/>\n<text text-anchor=\"start\" x=\"148.12\" y=\"-568.75\" font-family=\"Linux libertine\" font-size=\"10.00\">output: </text>\n<polygon fill=\"none\" stroke=\"black\" points=\"186.88,-560.5 186.88,-583.25 245.62,-583.25 245.62,-560.5 186.88,-560.5\"/>\n<text text-anchor=\"start\" x=\"200.12\" y=\"-568.75\" font-family=\"Linux libertine\" font-size=\"10.00\">(1, 20) </text>\n</g>\n<!-- 8&#45;&gt;10 -->\n<g id=\"edge10\" class=\"edge\">\n<title>8&#45;&gt;10</title>\n<path fill=\"none\" stroke=\"black\" d=\"M108.31,-642.03C116.83,-633.35 126.76,-623.22 135.92,-613.89\"/>\n<polygon fill=\"black\" stroke=\"black\" points=\"138.15,-616.62 142.65,-607.03 133.15,-611.71 138.15,-616.62\"/>\n</g>\n<!-- 9&#45;&gt;10 -->\n<g id=\"edge11\" class=\"edge\">\n<title>9&#45;&gt;10</title>\n<path fill=\"none\" stroke=\"black\" d=\"M220.23,-642.03C212.02,-633.44 202.45,-623.43 193.6,-614.17\"/>\n<polygon fill=\"black\" stroke=\"black\" points=\"196.23,-611.85 186.79,-607.04 191.17,-616.69 196.23,-611.85\"/>\n</g>\n<!-- 11 -->\n<g id=\"node12\" class=\"node\">\n<title>11</title>\n<polygon fill=\"aliceblue\" stroke=\"none\" points=\"229.5,-524.5 100.5,-524.5 100.5,-479 229.5,-479 229.5,-524.5\"/>\n<polygon fill=\"none\" stroke=\"black\" points=\"100.5,-479 100.5,-524.5 143.5,-524.5 143.5,-479 100.5,-479\"/>\n<text text-anchor=\"start\" x=\"115.62\" y=\"-505\" font-family=\"Linux libertine\" font-size=\"10.00\">div</text>\n<text text-anchor=\"start\" x=\"105.5\" y=\"-492.25\" font-family=\"Linux libertine\" font-size=\"10.00\">depth:2</text>\n<polygon fill=\"none\" stroke=\"black\" points=\"143.5,-501.75 143.5,-524.5 187.25,-524.5 187.25,-501.75 143.5,-501.75\"/>\n<text text-anchor=\"start\" x=\"153\" y=\"-510\" font-family=\"Linux libertine\" font-size=\"10.00\">input:</text>\n<polygon fill=\"none\" stroke=\"black\" points=\"187.25,-501.75 187.25,-524.5 229.5,-524.5 229.5,-501.75 187.25,-501.75\"/>\n<text text-anchor=\"start\" x=\"192.25\" y=\"-510\" font-family=\"Linux libertine\" font-size=\"10.00\">(1, 20) </text>\n<polygon fill=\"none\" stroke=\"black\" points=\"143.5,-479 143.5,-501.75 187.25,-501.75 187.25,-479 143.5,-479\"/>\n<text text-anchor=\"start\" x=\"148.5\" y=\"-487.25\" font-family=\"Linux libertine\" font-size=\"10.00\">output: </text>\n<polygon fill=\"none\" stroke=\"black\" points=\"187.25,-479 187.25,-501.75 229.5,-501.75 229.5,-479 187.25,-479\"/>\n<text text-anchor=\"start\" x=\"192.25\" y=\"-487.25\" font-family=\"Linux libertine\" font-size=\"10.00\">(1, 20) </text>\n</g>\n<!-- 10&#45;&gt;11 -->\n<g id=\"edge12\" class=\"edge\">\n<title>10&#45;&gt;11</title>\n<path fill=\"none\" stroke=\"black\" d=\"M165,-560.53C165,-552.9 165,-544.15 165,-535.81\"/>\n<polygon fill=\"black\" stroke=\"black\" points=\"168.5,-535.96 165,-525.96 161.5,-535.96 168.5,-535.96\"/>\n</g>\n<!-- 12 -->\n<g id=\"node13\" class=\"node\">\n<title>12</title>\n<polygon fill=\"aliceblue\" stroke=\"none\" points=\"230.25,-443 99.75,-443 99.75,-397.5 230.25,-397.5 230.25,-443\"/>\n<polygon fill=\"none\" stroke=\"black\" points=\"99.75,-397.5 99.75,-443 144.25,-443 144.25,-397.5 99.75,-397.5\"/>\n<text text-anchor=\"start\" x=\"104.75\" y=\"-423.5\" font-family=\"Linux libertine\" font-size=\"10.00\">softmax</text>\n<text text-anchor=\"start\" x=\"105.5\" y=\"-410.75\" font-family=\"Linux libertine\" font-size=\"10.00\">depth:2</text>\n<polygon fill=\"none\" stroke=\"black\" points=\"144.25,-420.25 144.25,-443 188,-443 188,-420.25 144.25,-420.25\"/>\n<text text-anchor=\"start\" x=\"153.75\" y=\"-428.5\" font-family=\"Linux libertine\" font-size=\"10.00\">input:</text>\n<polygon fill=\"none\" stroke=\"black\" points=\"188,-420.25 188,-443 230.25,-443 230.25,-420.25 188,-420.25\"/>\n<text text-anchor=\"start\" x=\"193\" y=\"-428.5\" font-family=\"Linux libertine\" font-size=\"10.00\">(1, 20) </text>\n<polygon fill=\"none\" stroke=\"black\" points=\"144.25,-397.5 144.25,-420.25 188,-420.25 188,-397.5 144.25,-397.5\"/>\n<text text-anchor=\"start\" x=\"149.25\" y=\"-405.75\" font-family=\"Linux libertine\" font-size=\"10.00\">output: </text>\n<polygon fill=\"none\" stroke=\"black\" points=\"188,-397.5 188,-420.25 230.25,-420.25 230.25,-397.5 188,-397.5\"/>\n<text text-anchor=\"start\" x=\"193\" y=\"-405.75\" font-family=\"Linux libertine\" font-size=\"10.00\">(1, 20) </text>\n</g>\n<!-- 11&#45;&gt;12 -->\n<g id=\"edge13\" class=\"edge\">\n<title>11&#45;&gt;12</title>\n<path fill=\"none\" stroke=\"black\" d=\"M165,-479.03C165,-471.4 165,-462.65 165,-454.31\"/>\n<polygon fill=\"black\" stroke=\"black\" points=\"168.5,-454.46 165,-444.46 161.5,-454.46 168.5,-454.46\"/>\n</g>\n<!-- 13 -->\n<g id=\"node14\" class=\"node\">\n<title>13</title>\n<polygon fill=\"aliceblue\" stroke=\"none\" points=\"180.5,-361.5 27.5,-361.5 27.5,-316 180.5,-316 180.5,-361.5\"/>\n<polygon fill=\"none\" stroke=\"black\" points=\"27.5,-316 27.5,-361.5 83.25,-361.5 83.25,-316 27.5,-316\"/>\n<text text-anchor=\"start\" x=\"32.5\" y=\"-342\" font-family=\"Linux libertine\" font-size=\"10.00\">unsqueeze</text>\n<text text-anchor=\"start\" x=\"38.88\" y=\"-329.25\" font-family=\"Linux libertine\" font-size=\"10.00\">depth:2</text>\n<polygon fill=\"none\" stroke=\"black\" points=\"83.25,-338.75 83.25,-361.5 127,-361.5 127,-338.75 83.25,-338.75\"/>\n<text text-anchor=\"start\" x=\"92.75\" y=\"-347\" font-family=\"Linux libertine\" font-size=\"10.00\">input:</text>\n<polygon fill=\"none\" stroke=\"black\" points=\"127,-338.75 127,-361.5 180.5,-361.5 180.5,-338.75 127,-338.75\"/>\n<text text-anchor=\"start\" x=\"137.62\" y=\"-347\" font-family=\"Linux libertine\" font-size=\"10.00\">(1, 20) </text>\n<polygon fill=\"none\" stroke=\"black\" points=\"83.25,-316 83.25,-338.75 127,-338.75 127,-316 83.25,-316\"/>\n<text text-anchor=\"start\" x=\"88.25\" y=\"-324.25\" font-family=\"Linux libertine\" font-size=\"10.00\">output: </text>\n<polygon fill=\"none\" stroke=\"black\" points=\"127,-316 127,-338.75 180.5,-338.75 180.5,-316 127,-316\"/>\n<text text-anchor=\"start\" x=\"132\" y=\"-324.25\" font-family=\"Linux libertine\" font-size=\"10.00\">(1, 1, 20) </text>\n</g>\n<!-- 12&#45;&gt;13 -->\n<g id=\"edge14\" class=\"edge\">\n<title>12&#45;&gt;13</title>\n<path fill=\"none\" stroke=\"black\" d=\"M148.33,-397.53C141.94,-389.2 134.53,-379.54 127.61,-370.52\"/>\n<polygon fill=\"black\" stroke=\"black\" points=\"130.43,-368.45 121.57,-362.65 124.88,-372.71 130.43,-368.45\"/>\n</g>\n<!-- 16 -->\n<g id=\"node17\" class=\"node\">\n<title>16</title>\n<polygon fill=\"lightyellow\" stroke=\"none\" points=\"305.5,-356.5 198.5,-356.5 198.5,-321 305.5,-321 305.5,-356.5\"/>\n<polygon fill=\"none\" stroke=\"black\" points=\"198.5,-321 198.5,-356.5 266.25,-356.5 266.25,-321 198.5,-321\"/>\n<text text-anchor=\"start\" x=\"203.5\" y=\"-342\" font-family=\"Linux libertine\" font-size=\"10.00\">output&#45;tensor</text>\n<text text-anchor=\"start\" x=\"215.88\" y=\"-329.25\" font-family=\"Linux libertine\" font-size=\"10.00\">depth:0</text>\n<polygon fill=\"none\" stroke=\"black\" points=\"266.25,-321 266.25,-356.5 305.5,-356.5 305.5,-321 266.25,-321\"/>\n<text text-anchor=\"start\" x=\"271.25\" y=\"-335.62\" font-family=\"Linux libertine\" font-size=\"10.00\">(1, 20)</text>\n</g>\n<!-- 12&#45;&gt;16 -->\n<g id=\"edge18\" class=\"edge\">\n<title>12&#45;&gt;16</title>\n<path fill=\"none\" stroke=\"black\" d=\"M188.77,-397.53C200.08,-387.2 213.64,-374.8 225.3,-364.15\"/>\n<polygon fill=\"black\" stroke=\"black\" points=\"227.64,-366.75 232.66,-357.42 222.91,-361.59 227.64,-366.75\"/>\n</g>\n<!-- 13&#45;&gt;14 -->\n<g id=\"edge15\" class=\"edge\">\n<title>13&#45;&gt;14</title>\n<path fill=\"none\" stroke=\"black\" d=\"M119.58,-316.03C125.54,-307.7 132.47,-298.04 138.94,-289.02\"/>\n<polygon fill=\"black\" stroke=\"black\" points=\"141.58,-291.34 144.56,-281.18 135.89,-287.27 141.58,-291.34\"/>\n</g>\n<!-- 15 -->\n<g id=\"node16\" class=\"node\">\n<title>15</title>\n<polygon fill=\"aliceblue\" stroke=\"none\" points=\"232.25,-198.5 89.75,-198.5 89.75,-153 232.25,-153 232.25,-198.5\"/>\n<polygon fill=\"none\" stroke=\"black\" points=\"89.75,-153 89.75,-198.5 135,-198.5 135,-153 89.75,-153\"/>\n<text text-anchor=\"start\" x=\"94.75\" y=\"-179\" font-family=\"Linux libertine\" font-size=\"10.00\">squeeze</text>\n<text text-anchor=\"start\" x=\"95.88\" y=\"-166.25\" font-family=\"Linux libertine\" font-size=\"10.00\">depth:2</text>\n<polygon fill=\"none\" stroke=\"black\" points=\"135,-175.75 135,-198.5 178.75,-198.5 178.75,-175.75 135,-175.75\"/>\n<text text-anchor=\"start\" x=\"144.5\" y=\"-184\" font-family=\"Linux libertine\" font-size=\"10.00\">input:</text>\n<polygon fill=\"none\" stroke=\"black\" points=\"178.75,-175.75 178.75,-198.5 232.25,-198.5 232.25,-175.75 178.75,-175.75\"/>\n<text text-anchor=\"start\" x=\"183.75\" y=\"-184\" font-family=\"Linux libertine\" font-size=\"10.00\">(1, 1, 64) </text>\n<polygon fill=\"none\" stroke=\"black\" points=\"135,-153 135,-175.75 178.75,-175.75 178.75,-153 135,-153\"/>\n<text text-anchor=\"start\" x=\"140\" y=\"-161.25\" font-family=\"Linux libertine\" font-size=\"10.00\">output: </text>\n<polygon fill=\"none\" stroke=\"black\" points=\"178.75,-153 178.75,-175.75 232.25,-175.75 232.25,-153 178.75,-153\"/>\n<text text-anchor=\"start\" x=\"189.38\" y=\"-161.25\" font-family=\"Linux libertine\" font-size=\"10.00\">(1, 64) </text>\n</g>\n<!-- 14&#45;&gt;15 -->\n<g id=\"edge16\" class=\"edge\">\n<title>14&#45;&gt;15</title>\n<path fill=\"none\" stroke=\"black\" d=\"M161,-234.53C161,-226.9 161,-218.15 161,-209.81\"/>\n<polygon fill=\"black\" stroke=\"black\" points=\"164.5,-209.96 161,-199.96 157.5,-209.96 164.5,-209.96\"/>\n</g>\n<!-- 17 -->\n<g id=\"node18\" class=\"node\">\n<title>17</title>\n<polygon fill=\"#c1ffc1\" stroke=\"none\" points=\"225.5,-117 96.5,-117 96.5,-71.5 225.5,-71.5 225.5,-117\"/>\n<polygon fill=\"none\" stroke=\"black\" points=\"96.5,-71.5 96.5,-117 139.5,-117 139.5,-71.5 96.5,-71.5\"/>\n<text text-anchor=\"start\" x=\"104.5\" y=\"-97.5\" font-family=\"Linux libertine\" font-size=\"10.00\">Linear</text>\n<text text-anchor=\"start\" x=\"101.5\" y=\"-84.75\" font-family=\"Linux libertine\" font-size=\"10.00\">depth:1</text>\n<polygon fill=\"none\" stroke=\"black\" points=\"139.5,-94.25 139.5,-117 183.25,-117 183.25,-94.25 139.5,-94.25\"/>\n<text text-anchor=\"start\" x=\"149\" y=\"-102.5\" font-family=\"Linux libertine\" font-size=\"10.00\">input:</text>\n<polygon fill=\"none\" stroke=\"black\" points=\"183.25,-94.25 183.25,-117 225.5,-117 225.5,-94.25 183.25,-94.25\"/>\n<text text-anchor=\"start\" x=\"188.25\" y=\"-102.5\" font-family=\"Linux libertine\" font-size=\"10.00\">(1, 64) </text>\n<polygon fill=\"none\" stroke=\"black\" points=\"139.5,-71.5 139.5,-94.25 183.25,-94.25 183.25,-71.5 139.5,-71.5\"/>\n<text text-anchor=\"start\" x=\"144.5\" y=\"-79.75\" font-family=\"Linux libertine\" font-size=\"10.00\">output: </text>\n<polygon fill=\"none\" stroke=\"black\" points=\"183.25,-71.5 183.25,-94.25 225.5,-94.25 225.5,-71.5 183.25,-71.5\"/>\n<text text-anchor=\"start\" x=\"190.88\" y=\"-79.75\" font-family=\"Linux libertine\" font-size=\"10.00\">(1, 1) </text>\n</g>\n<!-- 15&#45;&gt;17 -->\n<g id=\"edge17\" class=\"edge\">\n<title>15&#45;&gt;17</title>\n<path fill=\"none\" stroke=\"black\" d=\"M161,-153.03C161,-145.4 161,-136.65 161,-128.31\"/>\n<polygon fill=\"black\" stroke=\"black\" points=\"164.5,-128.46 161,-118.46 157.5,-128.46 164.5,-128.46\"/>\n</g>\n<!-- 18 -->\n<g id=\"node19\" class=\"node\">\n<title>18</title>\n<polygon fill=\"lightyellow\" stroke=\"none\" points=\"211.88,-35.5 110.12,-35.5 110.12,0 211.88,0 211.88,-35.5\"/>\n<polygon fill=\"none\" stroke=\"black\" points=\"110.12,0 110.12,-35.5 177.88,-35.5 177.88,0 110.12,0\"/>\n<text text-anchor=\"start\" x=\"115.12\" y=\"-21\" font-family=\"Linux libertine\" font-size=\"10.00\">output&#45;tensor</text>\n<text text-anchor=\"start\" x=\"127.5\" y=\"-8.25\" font-family=\"Linux libertine\" font-size=\"10.00\">depth:0</text>\n<polygon fill=\"none\" stroke=\"black\" points=\"177.88,0 177.88,-35.5 211.88,-35.5 211.88,0 177.88,0\"/>\n<text text-anchor=\"start\" x=\"182.88\" y=\"-14.62\" font-family=\"Linux libertine\" font-size=\"10.00\">(1, 1)</text>\n</g>\n<!-- 17&#45;&gt;18 -->\n<g id=\"edge19\" class=\"edge\">\n<title>17&#45;&gt;18</title>\n<path fill=\"none\" stroke=\"black\" d=\"M161,-71.7C161,-63.85 161,-54.85 161,-46.54\"/>\n<polygon fill=\"black\" stroke=\"black\" points=\"164.5,-46.56 161,-36.56 157.5,-46.56 164.5,-46.56\"/>\n</g>\n</g>\n</svg>\n",
      "text/plain": [
       "<graphviz.graphs.Digraph at 0x221a1237cb0>"
      ]
     },
     "execution_count": 3,
     "metadata": {},
     "output_type": "execute_result"
    }
   ],
   "execution_count": 3
  },
  {
   "metadata": {},
   "cell_type": "markdown",
   "source": "## Обучение модели",
   "id": "3fd52de0738dd46b"
  },
  {
   "metadata": {
    "ExecuteTime": {
     "end_time": "2025-06-13T13:35:15.113638Z",
     "start_time": "2025-06-13T13:35:06.802900Z"
    }
   },
   "cell_type": "code",
   "source": [
    "from data.generators import generate_data\n",
    "from data.dataset import build_dataloaders\n",
    "\n",
    "data, labels, masks = generate_data(num_samples=100_000)\n",
    "train_loader, val_loader, test_loader = build_dataloaders(data, labels, masks, split=(0.8, 0.1, 0.1))"
   ],
   "id": "4c4a1ba0e92f9804",
   "outputs": [
    {
     "name": "stderr",
     "output_type": "stream",
     "text": [
      "Generating sequences: 100%|██████████| 100000/100000 [00:06<00:00, 15221.99it/s]\n"
     ]
    }
   ],
   "execution_count": 1
  },
  {
   "metadata": {
    "ExecuteTime": {
     "end_time": "2025-06-13T13:33:09.130279Z",
     "start_time": "2025-06-13T13:33:01.560396Z"
    }
   },
   "cell_type": "code",
   "source": [
    "import torch\n",
    "from training.trainer import train_model\n",
    "\n",
    "print('Torch CUDA status: \\n\\t%s' %\n",
    "      '✅ Available' if torch.cuda.is_available() else '❌ NOT available', '\\n')\n",
    "\n",
    "device = torch.device('cuda' if torch.cuda.is_available() else 'cpu')\n",
    "\n",
    "# Обучение\n",
    "trained_model, train_losses, val_losses = train_model(\n",
    "    model=model,\n",
    "    train_loader=train_loader,\n",
    "    val_loader=val_loader,\n",
    "    epochs=2_000,\n",
    "    patience=10,\n",
    "    lr=1e-3,\n",
    "    device=device,\n",
    "    checkpoint_every=25\n",
    ")"
   ],
   "id": "ad6399858eb51d60",
   "outputs": [
    {
     "name": "stdout",
     "output_type": "stream",
     "text": [
      "Torch CUDA status: \n",
      "\t✅ Available \n",
      "\n"
     ]
    },
    {
     "name": "stderr",
     "output_type": "stream",
     "text": [
      "                                                                                      \r"
     ]
    },
    {
     "name": "stdout",
     "output_type": "stream",
     "text": [
      "[Epoch 1] Train Loss: 0.0246 | Val Loss: 0.0273\n",
      "Example input: [ 0.0000000e+00  6.1803401e-01  1.1755705e+00  1.6180340e+00\n",
      "  1.9021131e+00  2.0000000e+00  1.9021131e+00  1.6180340e+00\n",
      "  1.1755705e+00  6.1803401e-01  2.4492937e-16 -6.1803401e-01\n",
      " -1.1755705e+00 -1.6180340e+00 -1.9021131e+00 -2.0000000e+00\n",
      " -1.9021131e+00 -1.6180340e+00 -1.1755705e+00 -6.1803401e-01]\n",
      "Example target: -4.898587410340671e-16\n",
      "Example prediction: 0.002840787172317505\n"
     ]
    },
    {
     "name": "stderr",
     "output_type": "stream",
     "text": [
      "                                                                                     \r"
     ]
    },
    {
     "ename": "KeyboardInterrupt",
     "evalue": "",
     "output_type": "error",
     "traceback": [
      "\u001B[31m---------------------------------------------------------------------------\u001B[39m",
      "\u001B[31mKeyboardInterrupt\u001B[39m                         Traceback (most recent call last)",
      "\u001B[36mCell\u001B[39m\u001B[36m \u001B[39m\u001B[32mIn[22]\u001B[39m\u001B[32m, line 10\u001B[39m\n\u001B[32m      7\u001B[39m device = torch.device(\u001B[33m'\u001B[39m\u001B[33mcuda\u001B[39m\u001B[33m'\u001B[39m \u001B[38;5;28;01mif\u001B[39;00m torch.cuda.is_available() \u001B[38;5;28;01melse\u001B[39;00m \u001B[33m'\u001B[39m\u001B[33mcpu\u001B[39m\u001B[33m'\u001B[39m)\n\u001B[32m      9\u001B[39m \u001B[38;5;66;03m# Обучение\u001B[39;00m\n\u001B[32m---> \u001B[39m\u001B[32m10\u001B[39m trained_model, train_losses, val_losses = \u001B[43mtrain_model\u001B[49m\u001B[43m(\u001B[49m\n\u001B[32m     11\u001B[39m \u001B[43m    \u001B[49m\u001B[43mmodel\u001B[49m\u001B[43m=\u001B[49m\u001B[43mmodel\u001B[49m\u001B[43m,\u001B[49m\n\u001B[32m     12\u001B[39m \u001B[43m    \u001B[49m\u001B[43mtrain_loader\u001B[49m\u001B[43m=\u001B[49m\u001B[43mtrain_loader\u001B[49m\u001B[43m,\u001B[49m\n\u001B[32m     13\u001B[39m \u001B[43m    \u001B[49m\u001B[43mval_loader\u001B[49m\u001B[43m=\u001B[49m\u001B[43mval_loader\u001B[49m\u001B[43m,\u001B[49m\n\u001B[32m     14\u001B[39m \u001B[43m    \u001B[49m\u001B[43mepochs\u001B[49m\u001B[43m=\u001B[49m\u001B[32;43m2_000\u001B[39;49m\u001B[43m,\u001B[49m\n\u001B[32m     15\u001B[39m \u001B[43m    \u001B[49m\u001B[43mpatience\u001B[49m\u001B[43m=\u001B[49m\u001B[32;43m10\u001B[39;49m\u001B[43m,\u001B[49m\n\u001B[32m     16\u001B[39m \u001B[43m    \u001B[49m\u001B[43mlr\u001B[49m\u001B[43m=\u001B[49m\u001B[32;43m1e-3\u001B[39;49m\u001B[43m,\u001B[49m\n\u001B[32m     17\u001B[39m \u001B[43m    \u001B[49m\u001B[43mdevice\u001B[49m\u001B[43m=\u001B[49m\u001B[43mdevice\u001B[49m\u001B[43m,\u001B[49m\n\u001B[32m     18\u001B[39m \u001B[43m    \u001B[49m\u001B[43mcheckpoint_every\u001B[49m\u001B[43m=\u001B[49m\u001B[32;43m25\u001B[39;49m\n\u001B[32m     19\u001B[39m \u001B[43m)\u001B[49m\n",
      "\u001B[36mFile \u001B[39m\u001B[32mH:\\Projects\\Python\\Data Science\\numerical-series-predictor\\training\\trainer.py:38\u001B[39m, in \u001B[36mtrain_model\u001B[39m\u001B[34m(model, train_loader, val_loader, epochs, patience, lr, device, checkpoint_every)\u001B[39m\n\u001B[32m     36\u001B[39m train_bar = tqdm(train_loader, desc=\u001B[33mf\u001B[39m\u001B[33m\"\u001B[39m\u001B[33m[Epoch \u001B[39m\u001B[38;5;132;01m{\u001B[39;00mepoch\u001B[38;5;132;01m}\u001B[39;00m\u001B[33m] Training\u001B[39m\u001B[33m\"\u001B[39m, leave=\u001B[38;5;28;01mFalse\u001B[39;00m)\n\u001B[32m     37\u001B[39m \u001B[38;5;28;01mfor\u001B[39;00m x, mask, y \u001B[38;5;129;01min\u001B[39;00m train_bar:\n\u001B[32m---> \u001B[39m\u001B[32m38\u001B[39m     x, mask, y = x.to(device), \u001B[43mmask\u001B[49m\u001B[43m.\u001B[49m\u001B[43mto\u001B[49m\u001B[43m(\u001B[49m\u001B[43mdevice\u001B[49m\u001B[43m)\u001B[49m, y.to(device)\n\u001B[32m     39\u001B[39m     optimizer.zero_grad()\n\u001B[32m     40\u001B[39m     output, _ = model(x, mask)\n",
      "\u001B[31mKeyboardInterrupt\u001B[39m: "
     ]
    }
   ],
   "execution_count": 22
  },
  {
   "metadata": {
    "ExecuteTime": {
     "end_time": "2025-06-13T13:20:17.275866Z",
     "start_time": "2025-06-13T13:20:17.269854Z"
    }
   },
   "cell_type": "code",
   "source": [
    "torch.save({\n",
    "    \"config\": trained_model.get_config(),\n",
    "    \"state_dict\": trained_model.state_dict(),\n",
    "}, \"weights/demo.pt\")\n",
    "torch.save(trained_model, \"saved_models/demo_full.pt\")\n",
    "print(\"Model saved ✅\")"
   ],
   "id": "fe983bf3c133a35f",
   "outputs": [
    {
     "name": "stdout",
     "output_type": "stream",
     "text": [
      "Model saved ✅\n"
     ]
    }
   ],
   "execution_count": 15
  },
  {
   "metadata": {
    "ExecuteTime": {
     "end_time": "2025-06-13T13:44:09.237683Z",
     "start_time": "2025-06-13T13:44:08.407995Z"
    }
   },
   "cell_type": "code",
   "execution_count": 20,
   "source": [
    "import matplotlib.pyplot as plt\n",
    "import numpy as np\n",
    "import torch\n",
    "\n",
    "def plot_attention_heatmaps(attn_weights, masks, n_samples=4):\n",
    "    \"\"\"\n",
    "    Визуализирует attention weights и маски для нескольких примеров из батча.\n",
    "\n",
    "    attn_weights: torch.Tensor, shape [batch_size, seq_len]\n",
    "    masks: torch.Tensor, shape [batch_size, seq_len] (bool or 0/1)\n",
    "\n",
    "    n_samples: сколько примеров из батча показать (макс n_samples)\n",
    "    \"\"\"\n",
    "    batch_size = attn_weights.shape[0]\n",
    "    n_samples = min(n_samples, batch_size)\n",
    "\n",
    "    fig, axes = plt.subplots(n_samples, 2, figsize=(12, 3 * n_samples))\n",
    "\n",
    "    if n_samples == 1:\n",
    "        axes = [axes]\n",
    "\n",
    "    for i in range(n_samples):\n",
    "        attn = attn_weights[i].detach().cpu().numpy()\n",
    "        mask = masks[i].detach().cpu().numpy()\n",
    "\n",
    "        # Attention weights heatmap\n",
    "        axes[i][0].imshow(attn[np.newaxis, :], aspect='auto', cmap='viridis')\n",
    "        axes[i][0].set_title(f\"Attention weights (sample {i})\")\n",
    "        axes[i][0].set_ylabel('Attention')\n",
    "        axes[i][0].set_xlabel('Sequence Step')\n",
    "        axes[i][0].set_yticks([])\n",
    "\n",
    "        # Mask heatmap (черно-белая)\n",
    "        axes[i][1].imshow(mask[np.newaxis, :], aspect='auto', cmap='gray_r')\n",
    "        axes[i][1].set_title(f\"Attention mask (sample {i})\")\n",
    "        axes[i][1].set_ylabel('Mask')\n",
    "        axes[i][1].set_xlabel('Sequence Step')\n",
    "        axes[i][1].set_yticks([])\n",
    "\n",
    "    plt.tight_layout()\n",
    "    plt.show()\n",
    "\n",
    "# Загрузка чекпоинта\n",
    "checkpoint = torch.load(\"weights/demo.pt\", map_location='cpu')\n",
    "config = checkpoint[\"config\"]\n",
    "\n",
    "# Восстановление модели\n",
    "model = LSTMWithAttention(**config)\n",
    "model.load_state_dict(checkpoint[\"state_dict\"])\n",
    "\n",
    "# Определяем девайс\n",
    "device = torch.device('cuda' if torch.cuda.is_available() else 'cpu')\n",
    "model.to(device)\n",
    "\n",
    "# Берем батч из тестового даталоадера\n",
    "example_data, example_mask, example_labels = next(iter(test_loader))\n",
    "\n",
    "# Переносим данные на девайс\n",
    "example_data = example_data.to(device)\n",
    "example_mask = example_mask.to(device)\n",
    "example_labels = example_labels.to(device)\n",
    "\n",
    "# Отключаем градиенты и делаем предсказание\n",
    "model.eval()\n",
    "with torch.no_grad():\n",
    "    outputs, attention_weights = model(example_data, example_mask)\n",
    "\n",
    "print(\"Output shape:\", outputs.shape)\n",
    "print(\"Attention weights shape:\", attention_weights.shape)\n",
    "\n",
    "# Визуализируем (в plot_attention_heatmaps есть .cpu())\n",
    "plot_attention_heatmaps(attention_weights, example_mask, n_samples=4)\n"
   ],
   "id": "71d48bb7036ba5eb",
   "outputs": []
  }
 ],
 "metadata": {
  "kernelspec": {
   "display_name": "Python 3",
   "language": "python",
   "name": "python3"
  },
  "language_info": {
   "codemirror_mode": {
    "name": "ipython",
    "version": 2
   },
   "file_extension": ".py",
   "mimetype": "text/x-python",
   "name": "python",
   "nbconvert_exporter": "python",
   "pygments_lexer": "ipython2",
   "version": "2.7.6"
  }
 },
 "nbformat": 4,
 "nbformat_minor": 5
}
